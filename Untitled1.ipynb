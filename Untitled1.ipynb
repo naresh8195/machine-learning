{
  "nbformat": 4,
  "nbformat_minor": 0,
  "metadata": {
    "colab": {
      "provenance": []
    },
    "kernelspec": {
      "name": "python3",
      "display_name": "Python 3"
    },
    "language_info": {
      "name": "python"
    }
  },
  "cells": [
    {
      "cell_type": "code",
      "execution_count": 36,
      "metadata": {
        "colab": {
          "base_uri": "https://localhost:8080/"
        },
        "id": "PzSIXVXcfOFO",
        "outputId": "9d99965c-1e15-4789-9394-e7e04be3083e"
      },
      "outputs": [
        {
          "output_type": "stream",
          "name": "stdout",
          "text": [
            "2020-02-22\n",
            "2020\n",
            "['2020-02-01' '2020-02-02' '2020-02-03' '2020-02-04' '2020-02-05'\n",
            " '2020-02-06' '2020-02-07' '2020-02-08' '2020-02-09' '2020-02-10'\n",
            " '2020-02-11' '2020-02-12' '2020-02-13' '2020-02-14' '2020-02-15'\n",
            " '2020-02-16' '2020-02-17' '2020-02-18' '2020-02-19' '2020-02-20'\n",
            " '2020-02-21' '2020-02-22' '2020-02-23' '2020-02-24' '2020-02-25'\n",
            " '2020-02-26' '2020-02-27' '2020-02-28' '2020-02-29']\n",
            "True\n",
            "365 days\n",
            "52 weeks\n",
            "['2014-04-12' '2015-04-12' '2016-05-22']\n"
          ]
        }
      ],
      "source": [
        "import numpy as np\n",
        "from numpy import *\n",
        "\n",
        "today = np.datetime64('2020-02-22')\n",
        "print( today)\n",
        "print( np.datetime64(today, 'Y'))\n",
        "\n",
        "\n",
        "dates=np.arange('2020-02', '2020-03' , dtype='datetime64[D]')\n",
        "print(dates)\n",
        "print(today in dates)\n",
        "\n",
        "dur=np.datetime64('2007-05-17') - np.datetime64('2006-05-17')\n",
        "print(dur)\n",
        "print(np.timedelta64(dur,'W'))\n",
        "\n",
        "a = np.array(['2014-04-12', '2015-04-12', '2016-05-22'], dtype='datetime64')\n",
        "print(a)"
      ]
    },
    {
      "cell_type": "code",
      "source": [],
      "metadata": {
        "id": "e-Tp8uL2gtpf"
      },
      "execution_count": 32,
      "outputs": []
    }
  ]
}